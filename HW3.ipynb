{
 "cells": [
  {
   "cell_type": "code",
   "execution_count": null,
   "id": "be076180-d314-49ac-a9d1-4402ac347704",
   "metadata": {},
   "outputs": [],
   "source": [
    "import numpy as np\n",
    "import math"
   ]
  },
  {
   "cell_type": "code",
   "execution_count": null,
   "id": "1b28eb15",
   "metadata": {},
   "outputs": [],
   "source": [
    "# Please write a function that takes a number x and a power y and outputs the number to that power, xy\n",
    "# Ex: my pow(2,3) >>>> 8"
   ]
  },
  {
   "cell_type": "code",
   "execution_count": 2,
   "id": "bef3e04c",
   "metadata": {},
   "outputs": [
    {
     "name": "stdout",
     "output_type": "stream",
     "text": [
      "8\n"
     ]
    }
   ],
   "source": [
    "x = pow(2,3)\n",
    "print(x)"
   ]
  },
  {
   "cell_type": "code",
   "execution_count": null,
   "id": "107199f7",
   "metadata": {},
   "outputs": [],
   "source": [
    "# Write a function that takes in a list of number and returns the minimum and maximum values as a tuple.\n",
    "# Ex: min and max([3,1,4,1,5,9]) >>>> [1,9]"
   ]
  },
  {
   "cell_type": "code",
   "execution_count": 8,
   "id": "b1e9c556",
   "metadata": {},
   "outputs": [
    {
     "name": "stdout",
     "output_type": "stream",
     "text": [
      "[-2, 56]\n"
     ]
    }
   ],
   "source": [
    "num_list = [2,5,9,10,56,1,-2]\n",
    "\n",
    "print([min(num_list),max(num_list)])"
   ]
  },
  {
   "cell_type": "code",
   "execution_count": null,
   "id": "c771bfcb",
   "metadata": {},
   "outputs": [],
   "source": [
    "# Write a function that takes in a year and returns True if it is a leap year and False is it isn’t. A year is a\n",
    "# leap year if it is divisible by 4 but not divisible by 100 unless it is also divisible by 400.\n",
    "# Ex: is leap year(2023) >>>> False"
   ]
  },
  {
   "cell_type": "code",
   "execution_count": null,
   "id": "bce6c80a",
   "metadata": {},
   "outputs": [],
   "source": [
    "value = input(\"Please input a year:\")\n",
    "\n",
    "value_b = int(value)\n",
    "\n",
    "def is_leap_year(year):\n",
    "    if year % 4 == 0 and (year % 100 != 0 or year % 400 == 0):\n",
    "        return True\n",
    "    else:\n",
    "        return False\n",
    "        \n",
    "is_leap_year(value_b)"
   ]
  },
  {
   "cell_type": "code",
   "execution_count": null,
   "id": "6451d703",
   "metadata": {},
   "outputs": [],
   "source": [
    "# Write a function that takes in a person’s weight in kilograms and their height in meters and returns their\n",
    "# BMI. BMI is calculated by the formula\n",
    "# BMI = w/h^2\n",
    "# Ex: bmi(70,1.8) >>>> 21.604"
   ]
  },
  {
   "cell_type": "code",
   "execution_count": null,
   "id": "dd87b0a6",
   "metadata": {},
   "outputs": [],
   "source": [
    "weight = input(\"Please input your weight in kilograms:\")\n",
    "weight_b = float(weight)\n",
    "\n",
    "height = input(\"Please input your height in meters:\")\n",
    "height_b = float(height)\n",
    "\n",
    "def bmi(weight_b,height_b):\n",
    "    dist = weight_b/pow(height_b,2)\n",
    "    return dist\n",
    "\n",
    "bmi(weight_b,height_b)"
   ]
  },
  {
   "cell_type": "code",
   "execution_count": null,
   "id": "4b6aeb7e",
   "metadata": {},
   "outputs": [],
   "source": [
    "\"\"\"\n",
    "Write a function that takes in an integer and rotates all its digits to the right by one position i.e. the last\n",
    "digit becomes the first digit, the first digit becomes the second digit etc. You may not cast to the number to a string.\n",
    "Ex: rotate digits(12345) >>>> 51234\n",
    "Hint: Use modulus (%) and floor division (//). Example 12345%10 = 5 and 12345 // 10 = 1234\n",
    "\"\"\""
   ]
  },
  {
   "cell_type": "code",
   "execution_count": null,
   "id": "e1fc7898",
   "metadata": {},
   "outputs": [],
   "source": [
    "num = 9871098\n",
    "\n",
    "lastDigit = num % 10\n",
    "nolastDigit = num // 10\n",
    "Digits = 0\n",
    "\n",
    "while num >= 10:\n",
    "    num = num // 10\n",
    "    Digits += 1\n",
    "\n",
    "print(Digits)\n",
    "newNum = lastDigit * 10**Digits + nolastDigit\n",
    "print(newNum)"
   ]
  },
  {
   "cell_type": "code",
   "execution_count": 20,
   "id": "92437888-0d33-4901-bbb4-b77080c8746d",
   "metadata": {},
   "outputs": [
    {
     "data": {
      "text/plain": [
       "0"
      ]
     },
     "execution_count": 20,
     "metadata": {},
     "output_type": "execute_result"
    }
   ],
   "source": [
    "'''For both minimum and maximum, write one function to manually find that\n",
    "value using a for loop and another to manually find it using a while loop. You\n",
    "may not use min() or max(). In total you should have written 4 functions.'''"
   ]
  },
  {
   "cell_type": "code",
   "execution_count": 7,
   "id": "34b20fb1-adcc-4ce0-bf25-2438d1fe6ffe",
   "metadata": {},
   "outputs": [
    {
     "name": "stdout",
     "output_type": "stream",
     "text": [
      "74\n",
      "1\n",
      "1\n",
      "74\n"
     ]
    }
   ],
   "source": [
    "list = [10,2,3,34,5,26,74,8,9,1]\n",
    "current_max = list[0]\n",
    "current_min = list[0]\n",
    "\n",
    "for num in list:\n",
    "    if num > current_max:\n",
    "        current_max = num\n",
    "print(current_max)\n",
    "\n",
    "for num in list:\n",
    "    if num < current_min:\n",
    "        current_min = num\n",
    "print(current_min)\n",
    "\n",
    "\n",
    "index = 0\n",
    "curr_min = list[0]\n",
    "curr_max = list[0]\n",
    "while index < len(list):\n",
    "    curr = list[index]\n",
    "    if curr > curr_max:\n",
    "        curr_max = curr\n",
    "        index +=1 \n",
    "    elif curr < curr_max:\n",
    "        curr_min = curr\n",
    "        index += 1\n",
    "    else: \n",
    "        index +=1 \n",
    "print(curr_min)\n",
    "print(curr_max)"
   ]
  },
  {
   "cell_type": "code",
   "execution_count": null,
   "id": "eed4aa92-99b7-4869-b8d4-183685329807",
   "metadata": {},
   "outputs": [],
   "source": [
    "'''Write a function which takes in a string and outputs the number of vowels.\n",
    "Consider only a,e,i,o,u to be vowels and do not forget about capital letters.\n",
    "Ex: vowel count(”UC Berkeley”) will return 41'''"
   ]
  },
  {
   "cell_type": "code",
   "execution_count": null,
   "id": "e41c4620-2ccc-425d-997c-3a94355fef5c",
   "metadata": {},
   "outputs": [],
   "source": [
    "string = input(\"Please type a sentence:\")\n",
    "count = 0\n",
    "vowels = ['a','e','i','o','u','A','E','I','O','U']\n",
    "\n",
    "for i in range(len(string)):\n",
    "    if string[i] in vowels:\n",
    "        count += 1\n",
    "\n",
    "print(count)"
   ]
  },
  {
   "cell_type": "code",
   "execution_count": null,
   "id": "1992eb0e-9ca6-444c-aaa9-3e6778ce96cc",
   "metadata": {},
   "outputs": [],
   "source": [
    "'''Write a function that takes in an integer and returns the sum of the digits\n",
    "(the digital root).\n",
    "Ex: digital root(12345) will return 15'''"
   ]
  },
  {
   "cell_type": "code",
   "execution_count": null,
   "id": "091e24e7-9df7-44e9-b2fd-964394fe291f",
   "metadata": {},
   "outputs": [],
   "source": [
    "value = input(\"Please input a number:\")\n",
    "\n",
    "value_b = int(value)\n",
    "\n",
    "def digital_root(n):\n",
    "    sum = 0\n",
    "    for digit in str(n):\n",
    "        sum += int(digit)\n",
    "    return sum\n",
    "\n",
    "print(digital_root(value_b))"
   ]
  },
  {
   "cell_type": "code",
   "execution_count": null,
   "id": "e098eb7f-3304-4fd4-937d-654edf208de7",
   "metadata": {},
   "outputs": [],
   "source": []
  }
 ],
 "metadata": {
  "kernelspec": {
   "display_name": "Python 3 (ipykernel)",
   "language": "python",
   "name": "python3"
  },
  "language_info": {
   "codemirror_mode": {
    "name": "ipython",
    "version": 3
   },
   "file_extension": ".py",
   "mimetype": "text/x-python",
   "name": "python",
   "nbconvert_exporter": "python",
   "pygments_lexer": "ipython3",
   "version": "3.9.15"
  }
 },
 "nbformat": 4,
 "nbformat_minor": 5
}
